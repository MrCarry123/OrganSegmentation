{
  "cells": [
    {
      "cell_type": "markdown",
      "metadata": {
        "id": "view-in-github",
        "colab_type": "text"
      },
      "source": [
        "<a href=\"https://colab.research.google.com/github/MrCarry123/OrganSegmentation/blob/main/testing_segformer.ipynb\" target=\"_parent\"><img src=\"https://colab.research.google.com/assets/colab-badge.svg\" alt=\"Open In Colab\"/></a>"
      ]
    },
    {
      "cell_type": "code",
      "execution_count": null,
      "metadata": {
        "colab": {
          "base_uri": "https://localhost:8080/"
        },
        "id": "ZGo4DziaUWtX",
        "outputId": "4399f0e9-16bc-49b1-d507-9357ff05b5c3"
      },
      "outputs": [
        {
          "output_type": "stream",
          "name": "stdout",
          "text": [
            "Requirement already satisfied: tensorflow==2.13.0 in /usr/local/lib/python3.10/dist-packages (2.13.0)\n",
            "Requirement already satisfied: absl-py>=1.0.0 in /usr/local/lib/python3.10/dist-packages (from tensorflow==2.13.0) (1.4.0)\n",
            "Requirement already satisfied: astunparse>=1.6.0 in /usr/local/lib/python3.10/dist-packages (from tensorflow==2.13.0) (1.6.3)\n",
            "Requirement already satisfied: flatbuffers>=23.1.21 in /usr/local/lib/python3.10/dist-packages (from tensorflow==2.13.0) (23.5.26)\n",
            "Requirement already satisfied: gast<=0.4.0,>=0.2.1 in /usr/local/lib/python3.10/dist-packages (from tensorflow==2.13.0) (0.4.0)\n",
            "Requirement already satisfied: google-pasta>=0.1.1 in /usr/local/lib/python3.10/dist-packages (from tensorflow==2.13.0) (0.2.0)\n",
            "Requirement already satisfied: grpcio<2.0,>=1.24.3 in /usr/local/lib/python3.10/dist-packages (from tensorflow==2.13.0) (1.59.0)\n",
            "Requirement already satisfied: h5py>=2.9.0 in /usr/local/lib/python3.10/dist-packages (from tensorflow==2.13.0) (3.9.0)\n",
            "Requirement already satisfied: keras<2.14,>=2.13.1 in /usr/local/lib/python3.10/dist-packages (from tensorflow==2.13.0) (2.13.1)\n",
            "Requirement already satisfied: libclang>=13.0.0 in /usr/local/lib/python3.10/dist-packages (from tensorflow==2.13.0) (16.0.6)\n",
            "Requirement already satisfied: numpy<=1.24.3,>=1.22 in /usr/local/lib/python3.10/dist-packages (from tensorflow==2.13.0) (1.23.5)\n",
            "Requirement already satisfied: opt-einsum>=2.3.2 in /usr/local/lib/python3.10/dist-packages (from tensorflow==2.13.0) (3.3.0)\n",
            "Requirement already satisfied: packaging in /usr/local/lib/python3.10/dist-packages (from tensorflow==2.13.0) (23.2)\n",
            "Requirement already satisfied: protobuf!=4.21.0,!=4.21.1,!=4.21.2,!=4.21.3,!=4.21.4,!=4.21.5,<5.0.0dev,>=3.20.3 in /usr/local/lib/python3.10/dist-packages (from tensorflow==2.13.0) (3.20.3)\n",
            "Requirement already satisfied: setuptools in /usr/local/lib/python3.10/dist-packages (from tensorflow==2.13.0) (67.7.2)\n",
            "Requirement already satisfied: six>=1.12.0 in /usr/local/lib/python3.10/dist-packages (from tensorflow==2.13.0) (1.16.0)\n",
            "Requirement already satisfied: tensorboard<2.14,>=2.13 in /usr/local/lib/python3.10/dist-packages (from tensorflow==2.13.0) (2.13.0)\n",
            "Requirement already satisfied: tensorflow-estimator<2.14,>=2.13.0 in /usr/local/lib/python3.10/dist-packages (from tensorflow==2.13.0) (2.13.0)\n",
            "Requirement already satisfied: termcolor>=1.1.0 in /usr/local/lib/python3.10/dist-packages (from tensorflow==2.13.0) (2.3.0)\n",
            "Requirement already satisfied: typing-extensions<4.6.0,>=3.6.6 in /usr/local/lib/python3.10/dist-packages (from tensorflow==2.13.0) (4.5.0)\n",
            "Requirement already satisfied: wrapt>=1.11.0 in /usr/local/lib/python3.10/dist-packages (from tensorflow==2.13.0) (1.15.0)\n",
            "Requirement already satisfied: tensorflow-io-gcs-filesystem>=0.23.1 in /usr/local/lib/python3.10/dist-packages (from tensorflow==2.13.0) (0.34.0)\n",
            "Requirement already satisfied: wheel<1.0,>=0.23.0 in /usr/local/lib/python3.10/dist-packages (from astunparse>=1.6.0->tensorflow==2.13.0) (0.41.2)\n",
            "Requirement already satisfied: google-auth<3,>=1.6.3 in /usr/local/lib/python3.10/dist-packages (from tensorboard<2.14,>=2.13->tensorflow==2.13.0) (2.17.3)\n",
            "Requirement already satisfied: google-auth-oauthlib<1.1,>=0.5 in /usr/local/lib/python3.10/dist-packages (from tensorboard<2.14,>=2.13->tensorflow==2.13.0) (1.0.0)\n",
            "Requirement already satisfied: markdown>=2.6.8 in /usr/local/lib/python3.10/dist-packages (from tensorboard<2.14,>=2.13->tensorflow==2.13.0) (3.5)\n",
            "Requirement already satisfied: requests<3,>=2.21.0 in /usr/local/lib/python3.10/dist-packages (from tensorboard<2.14,>=2.13->tensorflow==2.13.0) (2.31.0)\n",
            "Requirement already satisfied: tensorboard-data-server<0.8.0,>=0.7.0 in /usr/local/lib/python3.10/dist-packages (from tensorboard<2.14,>=2.13->tensorflow==2.13.0) (0.7.1)\n",
            "Requirement already satisfied: werkzeug>=1.0.1 in /usr/local/lib/python3.10/dist-packages (from tensorboard<2.14,>=2.13->tensorflow==2.13.0) (3.0.0)\n",
            "Requirement already satisfied: cachetools<6.0,>=2.0.0 in /usr/local/lib/python3.10/dist-packages (from google-auth<3,>=1.6.3->tensorboard<2.14,>=2.13->tensorflow==2.13.0) (5.3.1)\n",
            "Requirement already satisfied: pyasn1-modules>=0.2.1 in /usr/local/lib/python3.10/dist-packages (from google-auth<3,>=1.6.3->tensorboard<2.14,>=2.13->tensorflow==2.13.0) (0.3.0)\n",
            "Requirement already satisfied: rsa<5,>=3.1.4 in /usr/local/lib/python3.10/dist-packages (from google-auth<3,>=1.6.3->tensorboard<2.14,>=2.13->tensorflow==2.13.0) (4.9)\n",
            "Requirement already satisfied: requests-oauthlib>=0.7.0 in /usr/local/lib/python3.10/dist-packages (from google-auth-oauthlib<1.1,>=0.5->tensorboard<2.14,>=2.13->tensorflow==2.13.0) (1.3.1)\n",
            "Requirement already satisfied: charset-normalizer<4,>=2 in /usr/local/lib/python3.10/dist-packages (from requests<3,>=2.21.0->tensorboard<2.14,>=2.13->tensorflow==2.13.0) (3.3.0)\n",
            "Requirement already satisfied: idna<4,>=2.5 in /usr/local/lib/python3.10/dist-packages (from requests<3,>=2.21.0->tensorboard<2.14,>=2.13->tensorflow==2.13.0) (3.4)\n",
            "Requirement already satisfied: urllib3<3,>=1.21.1 in /usr/local/lib/python3.10/dist-packages (from requests<3,>=2.21.0->tensorboard<2.14,>=2.13->tensorflow==2.13.0) (2.0.6)\n",
            "Requirement already satisfied: certifi>=2017.4.17 in /usr/local/lib/python3.10/dist-packages (from requests<3,>=2.21.0->tensorboard<2.14,>=2.13->tensorflow==2.13.0) (2023.7.22)\n",
            "Requirement already satisfied: MarkupSafe>=2.1.1 in /usr/local/lib/python3.10/dist-packages (from werkzeug>=1.0.1->tensorboard<2.14,>=2.13->tensorflow==2.13.0) (2.1.3)\n",
            "Requirement already satisfied: pyasn1<0.6.0,>=0.4.6 in /usr/local/lib/python3.10/dist-packages (from pyasn1-modules>=0.2.1->google-auth<3,>=1.6.3->tensorboard<2.14,>=2.13->tensorflow==2.13.0) (0.5.0)\n",
            "Requirement already satisfied: oauthlib>=3.0.0 in /usr/local/lib/python3.10/dist-packages (from requests-oauthlib>=0.7.0->google-auth-oauthlib<1.1,>=0.5->tensorboard<2.14,>=2.13->tensorflow==2.13.0) (3.2.2)\n",
            "Requirement already satisfied: keras==2.13.1 in /usr/local/lib/python3.10/dist-packages (2.13.1)\n",
            "Collecting segmentation-models\n",
            "  Downloading segmentation_models-1.0.1-py3-none-any.whl (33 kB)\n",
            "Collecting keras-applications<=1.0.8,>=1.0.7 (from segmentation-models)\n",
            "  Downloading Keras_Applications-1.0.8-py3-none-any.whl (50 kB)\n",
            "\u001b[2K     \u001b[90m━━━━━━━━━━━━━━━━━━━━━━━━━━━━━━━━━━━━━━━━\u001b[0m \u001b[32m50.7/50.7 kB\u001b[0m \u001b[31m2.5 MB/s\u001b[0m eta \u001b[36m0:00:00\u001b[0m\n",
            "\u001b[?25hCollecting image-classifiers==1.0.0 (from segmentation-models)\n",
            "  Downloading image_classifiers-1.0.0-py3-none-any.whl (19 kB)\n",
            "Collecting efficientnet==1.0.0 (from segmentation-models)\n",
            "  Downloading efficientnet-1.0.0-py3-none-any.whl (17 kB)\n",
            "Requirement already satisfied: scikit-image in /usr/local/lib/python3.10/dist-packages (from efficientnet==1.0.0->segmentation-models) (0.19.3)\n",
            "Requirement already satisfied: numpy>=1.9.1 in /usr/local/lib/python3.10/dist-packages (from keras-applications<=1.0.8,>=1.0.7->segmentation-models) (1.23.5)\n",
            "Requirement already satisfied: h5py in /usr/local/lib/python3.10/dist-packages (from keras-applications<=1.0.8,>=1.0.7->segmentation-models) (3.9.0)\n",
            "Requirement already satisfied: scipy>=1.4.1 in /usr/local/lib/python3.10/dist-packages (from scikit-image->efficientnet==1.0.0->segmentation-models) (1.11.3)\n",
            "Requirement already satisfied: networkx>=2.2 in /usr/local/lib/python3.10/dist-packages (from scikit-image->efficientnet==1.0.0->segmentation-models) (3.1)\n",
            "Requirement already satisfied: pillow!=7.1.0,!=7.1.1,!=8.3.0,>=6.1.0 in /usr/local/lib/python3.10/dist-packages (from scikit-image->efficientnet==1.0.0->segmentation-models) (9.4.0)\n",
            "Requirement already satisfied: imageio>=2.4.1 in /usr/local/lib/python3.10/dist-packages (from scikit-image->efficientnet==1.0.0->segmentation-models) (2.31.5)\n",
            "Requirement already satisfied: tifffile>=2019.7.26 in /usr/local/lib/python3.10/dist-packages (from scikit-image->efficientnet==1.0.0->segmentation-models) (2023.9.26)\n",
            "Requirement already satisfied: PyWavelets>=1.1.1 in /usr/local/lib/python3.10/dist-packages (from scikit-image->efficientnet==1.0.0->segmentation-models) (1.4.1)\n",
            "Requirement already satisfied: packaging>=20.0 in /usr/local/lib/python3.10/dist-packages (from scikit-image->efficientnet==1.0.0->segmentation-models) (23.2)\n",
            "Installing collected packages: keras-applications, image-classifiers, efficientnet, segmentation-models\n",
            "Successfully installed efficientnet-1.0.0 image-classifiers-1.0.0 keras-applications-1.0.8 segmentation-models-1.0.1\n"
          ]
        }
      ],
      "source": [
        "# !pip install numpy==1.19.5\n",
        "!pip3 install tensorflow==2.13.0\n",
        "!pip3 install keras==2.13.1\n",
        "!pip3 install -U segmentation-models\n"
      ]
    },
    {
      "cell_type": "code",
      "source": [
        "from google.colab import drive\n",
        "import os\n",
        "import tensorflow as tf\n",
        "print(tf.config.experimental.list_physical_devices('GPU'))\n",
        "import tensorflow.keras\n",
        "drive.mount('/content/drive')\n",
        "%env SM_FRAMEWORK=tf.keras\n",
        "import segmentation_models as sm\n",
        "tf.keras.backend.set_image_data_format('channels_last')"
      ],
      "metadata": {
        "colab": {
          "base_uri": "https://localhost:8080/"
        },
        "id": "gj6zZfX1U2Uc",
        "outputId": "00591417-bfda-4a46-e2bd-69dd83155d7f"
      },
      "execution_count": null,
      "outputs": [
        {
          "output_type": "stream",
          "name": "stdout",
          "text": [
            "[]\n",
            "Mounted at /content/drive\n",
            "env: SM_FRAMEWORK=tf.keras\n",
            "Segmentation Models: using `tf.keras` framework.\n"
          ]
        }
      ]
    },
    {
      "cell_type": "code",
      "execution_count": null,
      "metadata": {
        "id": "ocJwVORwUWtZ"
      },
      "outputs": [],
      "source": [
        "import sys\n",
        "sys.path.append('/content/drive/MyDrive/Organsegmentation2/')"
      ]
    },
    {
      "cell_type": "code",
      "execution_count": null,
      "metadata": {
        "id": "KYgVC_-tUWtZ"
      },
      "outputs": [],
      "source": [
        "import tensorflow as tf\n",
        "# import tensorflow.keras\n",
        "import segmentation_models as sm\n",
        "from sklearn.model_selection import train_test_split\n",
        "from tensorflow.keras.optimizers import Adam, SGD\n",
        "# from tensorflow.keras.utils import to_categorical\n",
        "import os\n",
        "import time\n",
        "from tensorflow.keras.models import Model\n",
        "from tensorflow.keras.losses import binary_crossentropy\n",
        "from sklearn.metrics import precision_score, recall_score\n",
        "from glob import glob\n",
        "from skimage.transform import resize\n",
        "# from tensorflow.keras.layers import Input, Conv2D, MaxPooling2D, UpSampling2D, Concatenate, Conv2DTranspose, concatenate, BatchNormalization, Activation, MaxPool2D\n",
        "import numpy as np\n",
        "from tqdm import tqdm\n",
        "from PIL import Image\n",
        "import random\n",
        "import matplotlib.pyplot as plt"
      ]
    },
    {
      "cell_type": "code",
      "execution_count": null,
      "metadata": {
        "id": "4NlfOhaoUWtZ"
      },
      "outputs": [],
      "source": [
        "from modules import MixVisionTransformer\n",
        "from Head import SegFormerHead\n",
        "from utils import ResizeLayer"
      ]
    },
    {
      "cell_type": "code",
      "execution_count": null,
      "metadata": {
        "id": "R4krPWX9UWta"
      },
      "outputs": [],
      "source": [
        "gpus = tf.config.list_physical_devices('GPU')\n",
        "\n",
        "gpu_number = -1 #set gpu number here\n",
        "if gpus:\n",
        "    # Restrict TensorFlow to only use the first GPU\n",
        "    try:\n",
        "        tf.config.set_visible_devices(gpus[gpu_number], 'GPU')\n",
        "        logical_gpus = tf.config.list_logical_devices('GPU')\n",
        "        print(len(gpus), \"Physical GPUs,\", len(logical_gpus), \"Logical GPU\")\n",
        "    except RuntimeError as e:\n",
        "        # Visible devices must be set before GPUs have been initialized\n",
        "        print(e)"
      ]
    },
    {
      "cell_type": "code",
      "execution_count": null,
      "metadata": {
        "id": "7XocJvCBUWta"
      },
      "outputs": [],
      "source": [
        "# %env SM_FRAMEWORK=tf.keras\n",
        "# tf.keras.backend.set_image_data_format('channels_last')"
      ]
    },
    {
      "cell_type": "code",
      "execution_count": null,
      "metadata": {
        "colab": {
          "base_uri": "https://localhost:8080/"
        },
        "id": "WFHQGuhrUWta",
        "outputId": "85d3dc05-4451-4875-9f31-a8a81c9db911"
      },
      "outputs": [
        {
          "output_type": "execute_result",
          "data": {
            "text/plain": [
              "2000"
            ]
          },
          "metadata": {},
          "execution_count": 62
        }
      ],
      "source": [
        "test_images = glob('/content/drive/MyDrive/Organsegmentation2/test_images/*.png')[:2000]\n",
        "test_labels = glob('/content/drive/MyDrive/Organsegmentation2/test_labels/*.png')[:2000]\n",
        "len(test_labels)"
      ]
    },
    {
      "cell_type": "code",
      "execution_count": null,
      "metadata": {
        "colab": {
          "base_uri": "https://localhost:8080/",
          "height": 107
        },
        "id": "2p5IjMS3UWtb",
        "outputId": "eb4b5333-5bc6-4d05-fe92-3190b04dbba1"
      },
      "outputs": [
        {
          "output_type": "execute_result",
          "data": {
            "text/plain": [
              "\"def load_test_data(test_images, test_labels):\\n  images = []\\n  labels = []\\n  for i in tqdm(range(len(test_images_names))):\\n    x = Image.open(test_images+test_images_names[i])\\n    x = np.asarray(x, dtype=np.float32)\\n    # print(file_path, type(file_path))\\n    label = Image.open(test_labels+test_labels_names[i])\\n    label = np.asarray(label, dtype=np.float32)\\n    resized_images = resize(x, (32,32), mode='constant', anti_aliasing=True)\\n\\n    # Resize labels to 128x128x4\\n    resized_labels = resize(label, (32,32), mode='constant', anti_aliasing=True)\\n    resized_labels[resized_labels != 0] = 1\\n    images.append(resized_images)\\n    labels.append(resized_labels)\\n  return images, labels \""
            ],
            "application/vnd.google.colaboratory.intrinsic+json": {
              "type": "string"
            }
          },
          "metadata": {},
          "execution_count": 16
        }
      ],
      "source": [
        "\"\"\"def load_test_data(test_images, test_labels):\n",
        "  images = []\n",
        "  labels = []\n",
        "  for i in tqdm(range(len(test_images_names))):\n",
        "    x = Image.open(test_images+test_images_names[i])\n",
        "    x = np.asarray(x, dtype=np.float32)\n",
        "    # print(file_path, type(file_path))\n",
        "    label = Image.open(test_labels+test_labels_names[i])\n",
        "    label = np.asarray(label, dtype=np.float32)\n",
        "    resized_images = resize(x, (32,32), mode='constant', anti_aliasing=True)\n",
        "\n",
        "    # Resize labels to 128x128x4\n",
        "    resized_labels = resize(label, (32,32), mode='constant', anti_aliasing=True)\n",
        "    resized_labels[resized_labels != 0] = 1\n",
        "    images.append(resized_images)\n",
        "    labels.append(resized_labels)\n",
        "  return images, labels \"\"\""
      ]
    },
    {
      "cell_type": "code",
      "source": [
        "from tqdm import tqdm\n",
        "def load_test_data(test_images, test_labels):\n",
        "  images = []\n",
        "  labels = []\n",
        "  test_images_names = sorted(test_images)\n",
        "  test_labels_names = sorted(test_labels)\n",
        "  for i in tqdm(range(len(test_images_names))):\n",
        "    x = Image.open(test_images_names[i])\n",
        "    x = np.asarray(x, dtype=np.float32)\n",
        "    # print(file_path, type(file_path))\n",
        "    label = Image.open(test_labels_names[i])\n",
        "    label = np.asarray(label, dtype=np.float32)\n",
        "    resized_images = resize(x, (32,32), mode='constant', anti_aliasing=True)\n",
        "    resized_images = resized_images[:, :, :3]\n",
        "    # Resize labels to 128x128x4\n",
        "    resized_labels = resize(label, (32,32), mode='constant', anti_aliasing=True)\n",
        "    resized_labels = resized_labels [:, :, :3]\n",
        "    resized_labels[resized_labels != 0] = 1\n",
        "    images.append(resized_images)\n",
        "    labels.append(resized_labels)\n",
        "  return images, labels"
      ],
      "metadata": {
        "id": "kBHvfGTQWii3"
      },
      "execution_count": null,
      "outputs": []
    },
    {
      "cell_type": "code",
      "execution_count": null,
      "metadata": {
        "id": "ELkmyGWyUWtb"
      },
      "outputs": [],
      "source": [
        "opt = SGD(learning_rate=0.001, momentum=0.0, nesterov=True)"
      ]
    },
    {
      "cell_type": "code",
      "execution_count": null,
      "metadata": {
        "id": "z8LmxqAXUWtc"
      },
      "outputs": [],
      "source": [
        "def DiceBCELoss(targets, inputs):\n",
        "    smooth = 1e-6\n",
        "    inputs = tf.keras.backend.flatten(inputs)\n",
        "    targets = tf.keras.backend.flatten(targets)\n",
        "\n",
        "    BCE = tf.keras.losses.binary_crossentropy(targets, inputs)\n",
        "    intersection = tf.reduce_sum(targets * inputs)\n",
        "    dice_loss = 1.0 - (2.0 * intersection + smooth) / (tf.reduce_sum(targets) + tf.reduce_sum(inputs) + smooth)\n",
        "    Dice_BCE = BCE + dice_loss\n",
        "    return Dice_BCE"
      ]
    },
    {
      "cell_type": "code",
      "execution_count": null,
      "metadata": {
        "id": "EcFxvLyGUWtc"
      },
      "outputs": [],
      "source": [
        "saved_model_path = '/content/drive/MyDrive/Organsegmentation2/Segformer.h5'"
      ]
    },
    {
      "cell_type": "code",
      "execution_count": null,
      "metadata": {
        "id": "JDttsA-fUWtc"
      },
      "outputs": [],
      "source": [
        "# custom_object = {'MixVisionTransformer': MixVisionTransformer}\n",
        "custom_object = {\n",
        "    'MixVisionTransformer': MixVisionTransformer,\n",
        "    'SegFormerHead': SegFormerHead,\n",
        "    'ResizeLayer': ResizeLayer\n",
        "    # Add more custom layers as needed\n",
        "}"
      ]
    },
    {
      "cell_type": "code",
      "execution_count": null,
      "metadata": {
        "id": "5PSV--n8UWtc"
      },
      "outputs": [],
      "source": [
        "model = tf.keras.models.load_model(\n",
        "    saved_model_path, custom_objects=custom_object, compile=False)"
      ]
    },
    {
      "cell_type": "code",
      "execution_count": null,
      "metadata": {
        "colab": {
          "base_uri": "https://localhost:8080/"
        },
        "id": "lpu5HdHTUWtc",
        "outputId": "57c100cb-af3a-427e-9743-737ed49afafa"
      },
      "outputs": [
        {
          "output_type": "stream",
          "name": "stdout",
          "text": [
            "Model: \"model\"\n",
            "__________________________________________________________________________________________________\n",
            " Layer (type)                Output Shape                 Param #   Connected to                  \n",
            "==================================================================================================\n",
            " input_1 (InputLayer)        [(None, 32, 32, 3)]          0         []                            \n",
            "                                                                                                  \n",
            " mix_vision_transformer_1 (  [(None, 8, 8, 64),           4407212   ['input_1[0][0]']             \n",
            " MixVisionTransformer)        (None, 4, 4, 128),          8                                       \n",
            "                              (None, 2, 2, 320),                                                  \n",
            "                              (None, 1, 1, 512)]                                                  \n",
            "                                                                                                  \n",
            " seg_former_head_1 (SegForm  (None, 8, 8, 3)              3154179   ['mix_vision_transformer_1[0][\n",
            " erHead)                                                            0]',                          \n",
            "                                                                     'mix_vision_transformer_1[0][\n",
            "                                                                    1]',                          \n",
            "                                                                     'mix_vision_transformer_1[0][\n",
            "                                                                    2]',                          \n",
            "                                                                     'mix_vision_transformer_1[0][\n",
            "                                                                    3]']                          \n",
            "                                                                                                  \n",
            " resize_layer (ResizeLayer)  (None, 32, 32, 3)            0         ['seg_former_head_1[0][0]']   \n",
            "                                                                                                  \n",
            " tf.nn.softmax (TFOpLambda)  (None, 32, 32, 3)            0         ['resize_layer[0][0]']        \n",
            "                                                                                                  \n",
            "==================================================================================================\n",
            "Total params: 47226307 (180.15 MB)\n",
            "Trainable params: 47224771 (180.15 MB)\n",
            "Non-trainable params: 1536 (6.00 KB)\n",
            "__________________________________________________________________________________________________\n",
            "None\n"
          ]
        }
      ],
      "source": [
        "print(model.summary())"
      ]
    },
    {
      "cell_type": "code",
      "execution_count": null,
      "metadata": {
        "colab": {
          "base_uri": "https://localhost:8080/"
        },
        "id": "4zeiPJAlUWtc",
        "outputId": "59a8a6b6-a1b5-4594-e647-056022b11fb9"
      },
      "outputs": [
        {
          "output_type": "stream",
          "name": "stderr",
          "text": [
            "100%|██████████| 2000/2000 [02:56<00:00, 11.33it/s]\n"
          ]
        }
      ],
      "source": [
        "model.compile(loss=DiceBCELoss, optimizer=opt,metrics=[sm.metrics.Precision(), sm.metrics.Recall(), sm.metrics.IOUScore()])\n",
        "images1, labels1 = load_test_data(test_images,test_labels)"
      ]
    },
    {
      "cell_type": "code",
      "execution_count": null,
      "metadata": {
        "id": "oSa7SZEIUWtc"
      },
      "outputs": [],
      "source": [
        "images1 = np.array(images1)\n",
        "labels1= np.array(labels1)"
      ]
    },
    {
      "cell_type": "code",
      "execution_count": null,
      "metadata": {
        "id": "Um8luyveUWtc"
      },
      "outputs": [],
      "source": [
        "images1.shape, labels1.shape"
      ]
    },
    {
      "cell_type": "code",
      "execution_count": null,
      "metadata": {
        "id": "SPDyCJQ4UWtc"
      },
      "outputs": [],
      "source": [
        "# model.evaluate(tf.convert_to_tensor(images1,dtype=tf.float32),tf.convert_to_tensor(labels1, dtype=tf.float32))"
      ]
    },
    {
      "cell_type": "code",
      "execution_count": null,
      "metadata": {
        "id": "bo7xWOUnUWtc"
      },
      "outputs": [],
      "source": [
        "# labels1"
      ]
    },
    {
      "cell_type": "code",
      "execution_count": null,
      "metadata": {
        "id": "OouCrZzoUWtc"
      },
      "outputs": [],
      "source": [
        "# loss, precision, recall, iou = model.evaluate(images1, labels1)"
      ]
    },
    {
      "cell_type": "code",
      "execution_count": null,
      "metadata": {
        "colab": {
          "base_uri": "https://localhost:8080/"
        },
        "id": "NRd4Xe9mUWtc",
        "outputId": "ddeb3b7b-54d6-4058-a9db-db4e29bd63e6"
      },
      "outputs": [
        {
          "output_type": "stream",
          "name": "stdout",
          "text": [
            "204/204 [==============================] - 263s 1s/step - loss: 1.3876 - precision: 0.5582 - recall: 0.3333 - iou_score: 0.2556\n"
          ]
        }
      ],
      "source": [
        "results = model.evaluate(images1, labels1)"
      ]
    },
    {
      "cell_type": "code",
      "execution_count": null,
      "metadata": {
        "id": "5f98ZRvMUWtd"
      },
      "outputs": [],
      "source": [
        "# !jupyter nbconvert --to  script 'testing.ipynb'"
      ]
    },
    {
      "cell_type": "code",
      "execution_count": null,
      "metadata": {
        "id": "O6njgnn2UWtd"
      },
      "outputs": [],
      "source": [
        "loss = results[0]\n",
        "precision = results[1]\n",
        "recall = results[2]\n",
        "iou_score = results[3]"
      ]
    },
    {
      "cell_type": "code",
      "source": [
        "print('loss:',loss, 'precision:',precision, 'recall:',recall, 'iou_score:',iou_score)"
      ],
      "metadata": {
        "id": "ZOC27n_d1KcE"
      },
      "execution_count": null,
      "outputs": []
    },
    {
      "cell_type": "code",
      "execution_count": null,
      "metadata": {
        "id": "Jvf8RQTQUWtd"
      },
      "outputs": [],
      "source": [
        "predicted_labels = model.predict(images1)"
      ]
    },
    {
      "cell_type": "code",
      "execution_count": null,
      "metadata": {
        "id": "rxQV6tXGUWtd"
      },
      "outputs": [],
      "source": [
        "slice_index = 2  # Choose the slice index you want to visualize\n",
        "file_index = 20\n",
        "\n",
        "plt.figure(figsize=(12, 5))\n",
        "\n",
        "# Display the original image\n",
        "plt.subplot(1, 3, 1)\n",
        "plt.imshow(images1[file_index][:, :, slice_index], cmap='jet')\n",
        "plt.title('original image')\n",
        "plt.axis('off')\n",
        "\n",
        "# Display the original label\n",
        "plt.subplot(1, 3, 2)\n",
        "plt.imshow(labels1[file_index][:, :, slice_index], cmap='jet')\n",
        "plt.title('original label')\n",
        "plt.axis('off')\n",
        "\n",
        "# Display the predicted label\n",
        "plt.subplot(1, 3, 3)\n",
        "plt.imshow(predicted_labels[file_index][:, :, slice_index], cmap='jet')\n",
        "plt.title('predicted Label')\n",
        "plt.axis('off')\n",
        "\n",
        "plt.tight_layout()\n",
        "plt.show()\n"
      ]
    },
    {
      "cell_type": "code",
      "execution_count": null,
      "metadata": {
        "id": "-RLtVE6bUWtd"
      },
      "outputs": [],
      "source": []
    }
  ],
  "metadata": {
    "kernelspec": {
      "display_name": "Python 3",
      "name": "python3"
    },
    "language_info": {
      "codemirror_mode": {
        "name": "ipython",
        "version": 3
      },
      "file_extension": ".py",
      "mimetype": "text/x-python",
      "name": "python",
      "nbconvert_exporter": "python",
      "pygments_lexer": "ipython3",
      "version": "3.10.12"
    },
    "orig_nbformat": 4,
    "colab": {
      "provenance": [],
      "machine_shape": "hm",
      "include_colab_link": true
    }
  },
  "nbformat": 4,
  "nbformat_minor": 0
}